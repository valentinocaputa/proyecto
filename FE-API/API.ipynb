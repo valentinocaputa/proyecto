{
 "cells": [
  {
   "cell_type": "code",
   "execution_count": 1,
   "metadata": {},
   "outputs": [],
   "source": [
    "#importo librerias\n",
    "\n",
    "import pandas as pd\n",
    "import numpy as np\n",
    "import json\n",
    "import glob\n",
    "import ast\n",
    "import gzip"
   ]
  },
  {
   "cell_type": "code",
   "execution_count": 2,
   "metadata": {},
   "outputs": [],
   "source": [
    "#cargo los datasets que voy a necesitar\n",
    "\n",
    "user_stats = pd.read_parquet(\"user_stats.parquet\")            #leo estos archivos para\n",
    "user_total_price = pd.read_parquet(\"user_total_price.parquet\") #la PRIMER funcion\n",
    "\n",
    "user_review = pd.read_parquet(\"countreviews.parquet\")#leo este archivo para la SEGUNDA funcion\n",
    "\n",
    "ranking = pd.read_parquet(\"genre.parquet\") #leo este archivo para la TERCER funcion\n",
    "\n",
    "genero_y_usuario_agrupado = pd.read_parquet(\"userforgenres.parquet\")#leo este archivo para la CUARTA funcion\n",
    "\n"
   ]
  },
  {
   "cell_type": "markdown",
   "metadata": {},
   "source": [
    "#### CREACION PRIMER FUNCION\n",
    "cantidad de dinero gastado por el usuario, el porcentaje de recomendación en base a reviews.recommend y cantidad de items."
   ]
  },
  {
   "cell_type": "code",
   "execution_count": 3,
   "metadata": {},
   "outputs": [
    {
     "data": {
      "text/plain": [
       "{'Usuario:': '76561197970982479',\n",
       " 'Cantidad de dinero gastado:': 6497.29,\n",
       " 'Porcentaje de recomendación:': 100.0,\n",
       " 'Cantidad de ítems:': 831}"
      ]
     },
     "execution_count": 3,
     "metadata": {},
     "output_type": "execute_result"
    }
   ],
   "source": [
    "def userdata(user_id : str):\n",
    "    user_price_data = user_total_price[user_total_price['user_id'] == user_id]\n",
    "    user_stats_data = user_stats[user_stats['user_id'] == user_id]\n",
    "    \n",
    "    if not user_price_data.empty and not user_stats_data.empty:\n",
    "        gasto = round(user_price_data['price'].iloc[0], 2)\n",
    "        recomendacion = user_stats_data['recommend_sum'].iloc[0]\n",
    "        total_items = user_stats_data['items_count'].iloc[0]\n",
    "        \n",
    "        return {\n",
    "            'Usuario:': user_id,\n",
    "            'Cantidad de dinero gastado:': gasto,\n",
    "            'Porcentaje de recomendación:':  round((recomendacion / total_items) * 100, 2),\n",
    "            'Cantidad de ítems:': total_items\n",
    "        }\n",
    "    else:\n",
    "        return 'Usuario no encontrado'\n",
    "    \n",
    "userdata('76561197970982479')"
   ]
  },
  {
   "cell_type": "markdown",
   "metadata": {},
   "source": [
    "#### CREACION SEGUNDA FUNCION\n",
    "cantidad de usuarios que realizaron reviews entre las fechas dadas y, el porcentaje de recomendación de los mismos en base a reviews.recommend."
   ]
  },
  {
   "cell_type": "code",
   "execution_count": 4,
   "metadata": {},
   "outputs": [
    {
     "data": {
      "text/plain": [
       "{'Cantidad de usuarios con reviews:': 16146,\n",
       " 'Porcentaje de recomendación:': 92.39}"
      ]
     },
     "execution_count": 4,
     "metadata": {},
     "output_type": "execute_result"
    }
   ],
   "source": [
    "def countreviews(inicio: str, final: str):\n",
    "    mask = (user_review['posted'] >= inicio) & (user_review['posted'] <= final)\n",
    "    reviews = user_review[mask] #creo una mascara para filtrar las reviews en el rango que elijo\n",
    "\n",
    "    #usuarios unicos que realizaron reviews \n",
    "    usuarios_unicos = reviews['user_id'].nunique()\n",
    "\n",
    "    #porcentaje recomendacion\n",
    "    porcentaje_recomendacion = round(reviews['recommend'].sum() / reviews['recommend'].count() * 100,2)\n",
    "\n",
    "    return {\n",
    "        'Cantidad de usuarios con reviews:': usuarios_unicos,\n",
    "        'Porcentaje de recomendación:': round(porcentaje_recomendacion, 2)\n",
    "    }\n",
    "\n",
    "countreviews('2011-11-11','2014-12-18')"
   ]
  },
  {
   "cell_type": "markdown",
   "metadata": {},
   "source": [
    "#### CREACION TERCER FUNCION\n",
    "devuelve el puesto en el que se encuentra un género sobre el ranking de los mismos analizado bajo la columna PlayTimeForever."
   ]
  },
  {
   "cell_type": "code",
   "execution_count": 5,
   "metadata": {},
   "outputs": [
    {
     "data": {
      "text/plain": [
       "'Eel genre RPG se encuentra en el puesto 13'"
      ]
     },
     "execution_count": 5,
     "metadata": {},
     "output_type": "execute_result"
    }
   ],
   "source": [
    "def genre(genero: str):\n",
    "    posicion = ranking[ranking['genres'] == genero].index[0] + 1  #busco el genero en el df y su posicion\n",
    "    return f\"Eel genre {genero} se encuentra en el puesto {posicion}\"\n",
    "\n",
    "genre('RPG')"
   ]
  },
  {
   "cell_type": "markdown",
   "metadata": {},
   "source": [
    "#### CREACION CUARTA FUNCION\n",
    "top 5 de usuarios con más horas de juego en el género dado, con su URL (del user) y user_id."
   ]
  },
  {
   "cell_type": "code",
   "execution_count": 6,
   "metadata": {},
   "outputs": [
    {
     "data": {
      "text/html": [
       "<div>\n",
       "<style scoped>\n",
       "    .dataframe tbody tr th:only-of-type {\n",
       "        vertical-align: middle;\n",
       "    }\n",
       "\n",
       "    .dataframe tbody tr th {\n",
       "        vertical-align: top;\n",
       "    }\n",
       "\n",
       "    .dataframe thead th {\n",
       "        text-align: right;\n",
       "    }\n",
       "</style>\n",
       "<table border=\"1\" class=\"dataframe\">\n",
       "  <thead>\n",
       "    <tr style=\"text-align: right;\">\n",
       "      <th></th>\n",
       "      <th>user_id</th>\n",
       "      <th>user_url</th>\n",
       "      <th>playtime_forever</th>\n",
       "    </tr>\n",
       "  </thead>\n",
       "  <tbody>\n",
       "    <tr>\n",
       "      <th>50657</th>\n",
       "      <td>Sp3ctre</td>\n",
       "      <td>http://steamcommunity.com/id/Sp3ctre</td>\n",
       "      <td>1699307.0</td>\n",
       "    </tr>\n",
       "    <tr>\n",
       "      <th>64497</th>\n",
       "      <td>shinomegami</td>\n",
       "      <td>http://steamcommunity.com/id/shinomegami</td>\n",
       "      <td>1580428.0</td>\n",
       "    </tr>\n",
       "    <tr>\n",
       "      <th>49457</th>\n",
       "      <td>REBAS_AS_F-T</td>\n",
       "      <td>http://steamcommunity.com/id/REBAS_AS_F-T</td>\n",
       "      <td>1456212.0</td>\n",
       "    </tr>\n",
       "    <tr>\n",
       "      <th>51237</th>\n",
       "      <td>Terminally-Chill</td>\n",
       "      <td>http://steamcommunity.com/id/Terminally-Chill</td>\n",
       "      <td>1065742.0</td>\n",
       "    </tr>\n",
       "    <tr>\n",
       "      <th>44133</th>\n",
       "      <td>DownSyndromeKid</td>\n",
       "      <td>http://steamcommunity.com/id/DownSyndromeKid</td>\n",
       "      <td>1061193.0</td>\n",
       "    </tr>\n",
       "  </tbody>\n",
       "</table>\n",
       "</div>"
      ],
      "text/plain": [
       "                user_id                                       user_url  \\\n",
       "50657           Sp3ctre           http://steamcommunity.com/id/Sp3ctre   \n",
       "64497       shinomegami       http://steamcommunity.com/id/shinomegami   \n",
       "49457      REBAS_AS_F-T      http://steamcommunity.com/id/REBAS_AS_F-T   \n",
       "51237  Terminally-Chill  http://steamcommunity.com/id/Terminally-Chill   \n",
       "44133   DownSyndromeKid   http://steamcommunity.com/id/DownSyndromeKid   \n",
       "\n",
       "       playtime_forever  \n",
       "50657         1699307.0  \n",
       "64497         1580428.0  \n",
       "49457         1456212.0  \n",
       "51237         1065742.0  \n",
       "44133         1061193.0  "
      ]
     },
     "execution_count": 6,
     "metadata": {},
     "output_type": "execute_result"
    }
   ],
   "source": [
    "def userforgenre(genre: str):\n",
    "    genero_filtrado = genero_y_usuario_agrupado[genero_y_usuario_agrupado['genres'] == genre]\n",
    "    top_usuario = genero_filtrado.sort_values(by='playtime_forever', ascending=False).head(5)\n",
    "    return top_usuario[['user_id', 'user_url', 'playtime_forever']]\n",
    "\n",
    "userforgenre('Action')"
   ]
  },
  {
   "cell_type": "markdown",
   "metadata": {},
   "source": [
    "#### CREACION QUINTA FUNCION\n",
    "Cantidad de items y porcentaje de contenido Free por año según empresa desarrolladora."
   ]
  },
  {
   "cell_type": "code",
   "execution_count": null,
   "metadata": {},
   "outputs": [],
   "source": []
  },
  {
   "cell_type": "markdown",
   "metadata": {},
   "source": [
    "#### CREACION SEXTA FUNCION\n",
    "según el año de lanzamiento, se devuelve una lista con la cantidad de registros de reseñas de usuarios que se encuentren categorizados con un análisis de sentimiento.\n"
   ]
  }
 ],
 "metadata": {
  "kernelspec": {
   "display_name": "Python 3",
   "language": "python",
   "name": "python3"
  },
  "language_info": {
   "codemirror_mode": {
    "name": "ipython",
    "version": 3
   },
   "file_extension": ".py",
   "mimetype": "text/x-python",
   "name": "python",
   "nbconvert_exporter": "python",
   "pygments_lexer": "ipython3",
   "version": "3.11.4"
  },
  "orig_nbformat": 4
 },
 "nbformat": 4,
 "nbformat_minor": 2
}
