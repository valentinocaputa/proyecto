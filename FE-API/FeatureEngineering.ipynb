{
 "cells": [
  {
   "cell_type": "code",
   "execution_count": 84,
   "metadata": {},
   "outputs": [],
   "source": [
    "import pandas as pd\n",
    "import numpy as np\n",
    "import json\n",
    "import glob\n",
    "import ast\n",
    "import gzip\n",
    "import datetime\n",
    "from textblob import TextBlob\n",
    "from sklearn.metrics.pairwise import cosine_similarity\n"
   ]
  },
  {
   "cell_type": "code",
   "execution_count": 85,
   "metadata": {},
   "outputs": [],
   "source": [
    "df1_steam = pd.read_parquet(\"df_games_final.parquet\")\n",
    "df2_reviews = pd.read_parquet(\"df_reviews_final.parquet\")\n",
    "df3_items = pd.read_parquet(\"df_items_final.parquet\")"
   ]
  },
  {
   "cell_type": "markdown",
   "metadata": {},
   "source": [
    "#### ANALISIS DE SENTIMIENTO BASANDOME EN LA COLUMNA REVIEW"
   ]
  },
  {
   "cell_type": "code",
   "execution_count": 86,
   "metadata": {},
   "outputs": [],
   "source": [
    "from textblob import TextBlob\n",
    "\n",
    "def analisis_sentimiento(text):\n",
    "    try:\n",
    "        analysis = TextBlob(str(text))\n",
    "        if analysis.sentiment.polarity > 0.2:\n",
    "            return '2'  # positivo\n",
    "        elif -0.2 < analysis.sentiment.polarity < 0.2:\n",
    "            return '1'  # neutral\n",
    "        else:\n",
    "            return '0'  # negativo\n",
    "    except:\n",
    "        return '1'  # neutral si hay un error o si la reseña esta ausente\n",
    "\n",
    "#aplicamos la función al dataframe y creamos la nueva columna\n",
    "df2_reviews['analisis_sentimiento'] = df2_reviews['review'].apply(analisis_sentimiento)\n",
    "\n",
    "#aeemplazamos la columna review con la nueva columna de análisis de sentimiento\n",
    "df2_reviews.drop('review', axis=1, inplace=True)\n",
    "df2_reviews.rename(columns={'analisis_sentimiento': 'review'}, inplace=True)\n"
   ]
  },
  {
   "cell_type": "code",
   "execution_count": 87,
   "metadata": {},
   "outputs": [
    {
     "data": {
      "text/plain": [
       "user_id                object\n",
       "funny                  object\n",
       "posted         datetime64[ns]\n",
       "last_edited            object\n",
       "item_id                object\n",
       "helpful                object\n",
       "recommend                bool\n",
       "review                 object\n",
       "dtype: object"
      ]
     },
     "execution_count": 87,
     "metadata": {},
     "output_type": "execute_result"
    }
   ],
   "source": [
    "df2_reviews.dtypes"
   ]
  },
  {
   "cell_type": "code",
   "execution_count": 88,
   "metadata": {},
   "outputs": [
    {
     "data": {
      "text/plain": [
       "item_id              object\n",
       "item_name            object\n",
       "playtime_forever    float64\n",
       "playtime_2weeks     float64\n",
       "user_id              object\n",
       "items_count           int64\n",
       "steam_id             object\n",
       "user_url             object\n",
       "dtype: object"
      ]
     },
     "execution_count": 88,
     "metadata": {},
     "output_type": "execute_result"
    }
   ],
   "source": [
    "df3_items.dtypes"
   ]
  },
  {
   "cell_type": "code",
   "execution_count": 89,
   "metadata": {},
   "outputs": [
    {
     "data": {
      "text/html": [
       "<div>\n",
       "<style scoped>\n",
       "    .dataframe tbody tr th:only-of-type {\n",
       "        vertical-align: middle;\n",
       "    }\n",
       "\n",
       "    .dataframe tbody tr th {\n",
       "        vertical-align: top;\n",
       "    }\n",
       "\n",
       "    .dataframe thead th {\n",
       "        text-align: right;\n",
       "    }\n",
       "</style>\n",
       "<table border=\"1\" class=\"dataframe\">\n",
       "  <thead>\n",
       "    <tr style=\"text-align: right;\">\n",
       "      <th></th>\n",
       "      <th>publisher</th>\n",
       "      <th>genres</th>\n",
       "      <th>app_name</th>\n",
       "      <th>title</th>\n",
       "      <th>url</th>\n",
       "      <th>release_date</th>\n",
       "      <th>tags</th>\n",
       "      <th>reviews_url</th>\n",
       "      <th>discount_price</th>\n",
       "      <th>specs</th>\n",
       "      <th>price</th>\n",
       "      <th>early_access</th>\n",
       "      <th>id</th>\n",
       "      <th>metascore</th>\n",
       "      <th>developer</th>\n",
       "    </tr>\n",
       "  </thead>\n",
       "  <tbody>\n",
       "    <tr>\n",
       "      <th>0</th>\n",
       "      <td>Kotoshiro</td>\n",
       "      <td>Action</td>\n",
       "      <td>Lost Summoner Kitty</td>\n",
       "      <td>Lost Summoner Kitty</td>\n",
       "      <td>http://store.steampowered.com/app/761140/Lost_...</td>\n",
       "      <td>2018-01-04</td>\n",
       "      <td>[Strategy, Action, Indie, Casual, Simulation]</td>\n",
       "      <td>http://steamcommunity.com/app/761140/reviews/?...</td>\n",
       "      <td>4.49</td>\n",
       "      <td>[Single-player]</td>\n",
       "      <td>4.99</td>\n",
       "      <td>0.0</td>\n",
       "      <td>761140.0</td>\n",
       "      <td>NaN</td>\n",
       "      <td>Kotoshiro</td>\n",
       "    </tr>\n",
       "    <tr>\n",
       "      <th>1</th>\n",
       "      <td>Kotoshiro</td>\n",
       "      <td>Casual</td>\n",
       "      <td>Lost Summoner Kitty</td>\n",
       "      <td>Lost Summoner Kitty</td>\n",
       "      <td>http://store.steampowered.com/app/761140/Lost_...</td>\n",
       "      <td>2018-01-04</td>\n",
       "      <td>[Strategy, Action, Indie, Casual, Simulation]</td>\n",
       "      <td>http://steamcommunity.com/app/761140/reviews/?...</td>\n",
       "      <td>4.49</td>\n",
       "      <td>[Single-player]</td>\n",
       "      <td>4.99</td>\n",
       "      <td>0.0</td>\n",
       "      <td>761140.0</td>\n",
       "      <td>NaN</td>\n",
       "      <td>Kotoshiro</td>\n",
       "    </tr>\n",
       "    <tr>\n",
       "      <th>2</th>\n",
       "      <td>Kotoshiro</td>\n",
       "      <td>Indie</td>\n",
       "      <td>Lost Summoner Kitty</td>\n",
       "      <td>Lost Summoner Kitty</td>\n",
       "      <td>http://store.steampowered.com/app/761140/Lost_...</td>\n",
       "      <td>2018-01-04</td>\n",
       "      <td>[Strategy, Action, Indie, Casual, Simulation]</td>\n",
       "      <td>http://steamcommunity.com/app/761140/reviews/?...</td>\n",
       "      <td>4.49</td>\n",
       "      <td>[Single-player]</td>\n",
       "      <td>4.99</td>\n",
       "      <td>0.0</td>\n",
       "      <td>761140.0</td>\n",
       "      <td>NaN</td>\n",
       "      <td>Kotoshiro</td>\n",
       "    </tr>\n",
       "    <tr>\n",
       "      <th>3</th>\n",
       "      <td>Kotoshiro</td>\n",
       "      <td>Simulation</td>\n",
       "      <td>Lost Summoner Kitty</td>\n",
       "      <td>Lost Summoner Kitty</td>\n",
       "      <td>http://store.steampowered.com/app/761140/Lost_...</td>\n",
       "      <td>2018-01-04</td>\n",
       "      <td>[Strategy, Action, Indie, Casual, Simulation]</td>\n",
       "      <td>http://steamcommunity.com/app/761140/reviews/?...</td>\n",
       "      <td>4.49</td>\n",
       "      <td>[Single-player]</td>\n",
       "      <td>4.99</td>\n",
       "      <td>0.0</td>\n",
       "      <td>761140.0</td>\n",
       "      <td>NaN</td>\n",
       "      <td>Kotoshiro</td>\n",
       "    </tr>\n",
       "    <tr>\n",
       "      <th>4</th>\n",
       "      <td>Kotoshiro</td>\n",
       "      <td>Strategy</td>\n",
       "      <td>Lost Summoner Kitty</td>\n",
       "      <td>Lost Summoner Kitty</td>\n",
       "      <td>http://store.steampowered.com/app/761140/Lost_...</td>\n",
       "      <td>2018-01-04</td>\n",
       "      <td>[Strategy, Action, Indie, Casual, Simulation]</td>\n",
       "      <td>http://steamcommunity.com/app/761140/reviews/?...</td>\n",
       "      <td>4.49</td>\n",
       "      <td>[Single-player]</td>\n",
       "      <td>4.99</td>\n",
       "      <td>0.0</td>\n",
       "      <td>761140.0</td>\n",
       "      <td>NaN</td>\n",
       "      <td>Kotoshiro</td>\n",
       "    </tr>\n",
       "    <tr>\n",
       "      <th>...</th>\n",
       "      <td>...</td>\n",
       "      <td>...</td>\n",
       "      <td>...</td>\n",
       "      <td>...</td>\n",
       "      <td>...</td>\n",
       "      <td>...</td>\n",
       "      <td>...</td>\n",
       "      <td>...</td>\n",
       "      <td>...</td>\n",
       "      <td>...</td>\n",
       "      <td>...</td>\n",
       "      <td>...</td>\n",
       "      <td>...</td>\n",
       "      <td>...</td>\n",
       "      <td>...</td>\n",
       "    </tr>\n",
       "    <tr>\n",
       "      <th>71549</th>\n",
       "      <td>Laush Studio</td>\n",
       "      <td>Indie</td>\n",
       "      <td>Russian Roads</td>\n",
       "      <td>Russian Roads</td>\n",
       "      <td>http://store.steampowered.com/app/610660/Russi...</td>\n",
       "      <td>2018-01-04</td>\n",
       "      <td>[Indie, Simulation, Racing]</td>\n",
       "      <td>http://steamcommunity.com/app/610660/reviews/?...</td>\n",
       "      <td>1.39</td>\n",
       "      <td>[Single-player, Steam Achievements, Steam Trad...</td>\n",
       "      <td>1.99</td>\n",
       "      <td>0.0</td>\n",
       "      <td>610660.0</td>\n",
       "      <td>NaN</td>\n",
       "      <td>Laush Dmitriy Sergeevich</td>\n",
       "    </tr>\n",
       "    <tr>\n",
       "      <th>71550</th>\n",
       "      <td>Laush Studio</td>\n",
       "      <td>Racing</td>\n",
       "      <td>Russian Roads</td>\n",
       "      <td>Russian Roads</td>\n",
       "      <td>http://store.steampowered.com/app/610660/Russi...</td>\n",
       "      <td>2018-01-04</td>\n",
       "      <td>[Indie, Simulation, Racing]</td>\n",
       "      <td>http://steamcommunity.com/app/610660/reviews/?...</td>\n",
       "      <td>1.39</td>\n",
       "      <td>[Single-player, Steam Achievements, Steam Trad...</td>\n",
       "      <td>1.99</td>\n",
       "      <td>0.0</td>\n",
       "      <td>610660.0</td>\n",
       "      <td>NaN</td>\n",
       "      <td>Laush Dmitriy Sergeevich</td>\n",
       "    </tr>\n",
       "    <tr>\n",
       "      <th>71551</th>\n",
       "      <td>Laush Studio</td>\n",
       "      <td>Simulation</td>\n",
       "      <td>Russian Roads</td>\n",
       "      <td>Russian Roads</td>\n",
       "      <td>http://store.steampowered.com/app/610660/Russi...</td>\n",
       "      <td>2018-01-04</td>\n",
       "      <td>[Indie, Simulation, Racing]</td>\n",
       "      <td>http://steamcommunity.com/app/610660/reviews/?...</td>\n",
       "      <td>1.39</td>\n",
       "      <td>[Single-player, Steam Achievements, Steam Trad...</td>\n",
       "      <td>1.99</td>\n",
       "      <td>0.0</td>\n",
       "      <td>610660.0</td>\n",
       "      <td>NaN</td>\n",
       "      <td>Laush Dmitriy Sergeevich</td>\n",
       "    </tr>\n",
       "    <tr>\n",
       "      <th>71552</th>\n",
       "      <td>SIXNAILS</td>\n",
       "      <td>Casual</td>\n",
       "      <td>EXIT 2 - Directions</td>\n",
       "      <td>EXIT 2 - Directions</td>\n",
       "      <td>http://store.steampowered.com/app/658870/EXIT_...</td>\n",
       "      <td>2017-09-02</td>\n",
       "      <td>[Indie, Casual, Puzzle, Singleplayer, Atmosphe...</td>\n",
       "      <td>http://steamcommunity.com/app/658870/reviews/?...</td>\n",
       "      <td>NaN</td>\n",
       "      <td>[Single-player, Steam Achievements, Steam Cloud]</td>\n",
       "      <td>4.99</td>\n",
       "      <td>0.0</td>\n",
       "      <td>658870.0</td>\n",
       "      <td>NaN</td>\n",
       "      <td>xropi,stev3ns</td>\n",
       "    </tr>\n",
       "    <tr>\n",
       "      <th>71553</th>\n",
       "      <td>SIXNAILS</td>\n",
       "      <td>Indie</td>\n",
       "      <td>EXIT 2 - Directions</td>\n",
       "      <td>EXIT 2 - Directions</td>\n",
       "      <td>http://store.steampowered.com/app/658870/EXIT_...</td>\n",
       "      <td>2017-09-02</td>\n",
       "      <td>[Indie, Casual, Puzzle, Singleplayer, Atmosphe...</td>\n",
       "      <td>http://steamcommunity.com/app/658870/reviews/?...</td>\n",
       "      <td>NaN</td>\n",
       "      <td>[Single-player, Steam Achievements, Steam Cloud]</td>\n",
       "      <td>4.99</td>\n",
       "      <td>0.0</td>\n",
       "      <td>658870.0</td>\n",
       "      <td>NaN</td>\n",
       "      <td>xropi,stev3ns</td>\n",
       "    </tr>\n",
       "  </tbody>\n",
       "</table>\n",
       "<p>71554 rows × 15 columns</p>\n",
       "</div>"
      ],
      "text/plain": [
       "          publisher      genres             app_name                title  \\\n",
       "0         Kotoshiro      Action  Lost Summoner Kitty  Lost Summoner Kitty   \n",
       "1         Kotoshiro      Casual  Lost Summoner Kitty  Lost Summoner Kitty   \n",
       "2         Kotoshiro       Indie  Lost Summoner Kitty  Lost Summoner Kitty   \n",
       "3         Kotoshiro  Simulation  Lost Summoner Kitty  Lost Summoner Kitty   \n",
       "4         Kotoshiro    Strategy  Lost Summoner Kitty  Lost Summoner Kitty   \n",
       "...             ...         ...                  ...                  ...   \n",
       "71549  Laush Studio       Indie        Russian Roads        Russian Roads   \n",
       "71550  Laush Studio      Racing        Russian Roads        Russian Roads   \n",
       "71551  Laush Studio  Simulation        Russian Roads        Russian Roads   \n",
       "71552      SIXNAILS      Casual  EXIT 2 - Directions  EXIT 2 - Directions   \n",
       "71553      SIXNAILS       Indie  EXIT 2 - Directions  EXIT 2 - Directions   \n",
       "\n",
       "                                                     url release_date  \\\n",
       "0      http://store.steampowered.com/app/761140/Lost_...   2018-01-04   \n",
       "1      http://store.steampowered.com/app/761140/Lost_...   2018-01-04   \n",
       "2      http://store.steampowered.com/app/761140/Lost_...   2018-01-04   \n",
       "3      http://store.steampowered.com/app/761140/Lost_...   2018-01-04   \n",
       "4      http://store.steampowered.com/app/761140/Lost_...   2018-01-04   \n",
       "...                                                  ...          ...   \n",
       "71549  http://store.steampowered.com/app/610660/Russi...   2018-01-04   \n",
       "71550  http://store.steampowered.com/app/610660/Russi...   2018-01-04   \n",
       "71551  http://store.steampowered.com/app/610660/Russi...   2018-01-04   \n",
       "71552  http://store.steampowered.com/app/658870/EXIT_...   2017-09-02   \n",
       "71553  http://store.steampowered.com/app/658870/EXIT_...   2017-09-02   \n",
       "\n",
       "                                                    tags  \\\n",
       "0          [Strategy, Action, Indie, Casual, Simulation]   \n",
       "1          [Strategy, Action, Indie, Casual, Simulation]   \n",
       "2          [Strategy, Action, Indie, Casual, Simulation]   \n",
       "3          [Strategy, Action, Indie, Casual, Simulation]   \n",
       "4          [Strategy, Action, Indie, Casual, Simulation]   \n",
       "...                                                  ...   \n",
       "71549                        [Indie, Simulation, Racing]   \n",
       "71550                        [Indie, Simulation, Racing]   \n",
       "71551                        [Indie, Simulation, Racing]   \n",
       "71552  [Indie, Casual, Puzzle, Singleplayer, Atmosphe...   \n",
       "71553  [Indie, Casual, Puzzle, Singleplayer, Atmosphe...   \n",
       "\n",
       "                                             reviews_url  discount_price  \\\n",
       "0      http://steamcommunity.com/app/761140/reviews/?...            4.49   \n",
       "1      http://steamcommunity.com/app/761140/reviews/?...            4.49   \n",
       "2      http://steamcommunity.com/app/761140/reviews/?...            4.49   \n",
       "3      http://steamcommunity.com/app/761140/reviews/?...            4.49   \n",
       "4      http://steamcommunity.com/app/761140/reviews/?...            4.49   \n",
       "...                                                  ...             ...   \n",
       "71549  http://steamcommunity.com/app/610660/reviews/?...            1.39   \n",
       "71550  http://steamcommunity.com/app/610660/reviews/?...            1.39   \n",
       "71551  http://steamcommunity.com/app/610660/reviews/?...            1.39   \n",
       "71552  http://steamcommunity.com/app/658870/reviews/?...             NaN   \n",
       "71553  http://steamcommunity.com/app/658870/reviews/?...             NaN   \n",
       "\n",
       "                                                   specs  price  early_access  \\\n",
       "0                                        [Single-player]   4.99           0.0   \n",
       "1                                        [Single-player]   4.99           0.0   \n",
       "2                                        [Single-player]   4.99           0.0   \n",
       "3                                        [Single-player]   4.99           0.0   \n",
       "4                                        [Single-player]   4.99           0.0   \n",
       "...                                                  ...    ...           ...   \n",
       "71549  [Single-player, Steam Achievements, Steam Trad...   1.99           0.0   \n",
       "71550  [Single-player, Steam Achievements, Steam Trad...   1.99           0.0   \n",
       "71551  [Single-player, Steam Achievements, Steam Trad...   1.99           0.0   \n",
       "71552   [Single-player, Steam Achievements, Steam Cloud]   4.99           0.0   \n",
       "71553   [Single-player, Steam Achievements, Steam Cloud]   4.99           0.0   \n",
       "\n",
       "             id  metascore                 developer  \n",
       "0      761140.0        NaN                 Kotoshiro  \n",
       "1      761140.0        NaN                 Kotoshiro  \n",
       "2      761140.0        NaN                 Kotoshiro  \n",
       "3      761140.0        NaN                 Kotoshiro  \n",
       "4      761140.0        NaN                 Kotoshiro  \n",
       "...         ...        ...                       ...  \n",
       "71549  610660.0        NaN  Laush Dmitriy Sergeevich  \n",
       "71550  610660.0        NaN  Laush Dmitriy Sergeevich  \n",
       "71551  610660.0        NaN  Laush Dmitriy Sergeevich  \n",
       "71552  658870.0        NaN             xropi,stev3ns  \n",
       "71553  658870.0        NaN             xropi,stev3ns  \n",
       "\n",
       "[71554 rows x 15 columns]"
      ]
     },
     "execution_count": 89,
     "metadata": {},
     "output_type": "execute_result"
    }
   ],
   "source": [
    "df1_steam "
   ]
  },
  {
   "cell_type": "code",
   "execution_count": 90,
   "metadata": {},
   "outputs": [],
   "source": [
    "df1_steam['id'] = df1_steam['id'].astype(float)      #convierto valores a tipo float para que me deje hacer el merge\n",
    "df1_steam['price'] = pd.to_numeric(df1_steam['price'], errors='coerce') #convierto con esta funcion ya que hay algunois prices que son de tipo str, ej (free to play)\n",
    "df3_items['item_id'] = df3_items['item_id'].astype(float)\n"
   ]
  },
  {
   "cell_type": "markdown",
   "metadata": {},
   "source": [
    "## PROCEDO A HACER LOS MERGE PARA LOS DATAFRAMES Y LA CREACION DE LAS FUNCIONES\n"
   ]
  },
  {
   "cell_type": "markdown",
   "metadata": {},
   "source": [
    "#### CREACION PRIMER FUNCION\n",
    "cantidad de dinero gastado por el usuario, el porcentaje de recomendación en base a reviews.recommend y cantidad de items."
   ]
  },
  {
   "cell_type": "code",
   "execution_count": 91,
   "metadata": {},
   "outputs": [],
   "source": [
    "#guardo columnas necesarias en una variable\n",
    "columnas_df3 = ['item_id', 'user_id']\n",
    "columnas_df1 = ['id', 'price']\n",
    "\n",
    "user_price = df3_items[columnas_df3].merge(df1_steam[columnas_df1], left_on='item_id', right_on='id', how='left')\n",
    "user_total_price = user_price.groupby('user_id')['price'].sum().reset_index()\n"
   ]
  },
  {
   "cell_type": "code",
   "execution_count": 92,
   "metadata": {},
   "outputs": [],
   "source": [
    "#guardo columnas necesarias en una variable\n",
    "columnas_df2 = ['user_id', 'recommend']\n",
    "\n",
    "df_user_recommend = df3_items[['user_id', 'item_id']].merge(df2_reviews[columnas_df2], on='user_id', how='inner')\n",
    "df_user_stats = df_user_recommend.groupby('user_id').agg(\n",
    "    recommend_sum=('recommend', 'sum'),\n",
    "    items_count=('item_id', 'size')).reset_index()\n",
    "\n",
    "user_total_price.to_parquet('user_total_price.parquet', engine='pyarrow')#guardamos el df df_user_total_price\n",
    "\n",
    "\n",
    "df_user_stats.to_parquet('user_stats.parquet', engine='pyarrow')#guardamos el df df_user_stats\n",
    "\n"
   ]
  },
  {
   "cell_type": "code",
   "execution_count": 93,
   "metadata": {},
   "outputs": [
    {
     "data": {
      "text/plain": [
       "{'Usuario:': '76561197970982479',\n",
       " 'Cantidad de dinero gastado:': 6497.29,\n",
       " 'Porcentaje de recomendación:': 100.0,\n",
       " 'Cantidad de ítems:': 831}"
      ]
     },
     "execution_count": 93,
     "metadata": {},
     "output_type": "execute_result"
    }
   ],
   "source": [
    "def userdata(user_id):\n",
    "    user_price_data = user_total_price[user_total_price['user_id'] == user_id]\n",
    "    user_stats_data = df_user_stats[df_user_stats['user_id'] == user_id]\n",
    "    \n",
    "    if not user_price_data.empty and not user_stats_data.empty:\n",
    "        gasto = round(user_price_data['price'].iloc[0], 2)\n",
    "        recomendacion = user_stats_data['recommend_sum'].iloc[0]\n",
    "        total_items = user_stats_data['items_count'].iloc[0]\n",
    "        \n",
    "        return {\n",
    "            'Usuario:': user_id,\n",
    "            'Cantidad de dinero gastado:': gasto,\n",
    "            'Porcentaje de recomendación:':  round((recomendacion / total_items) * 100, 2),\n",
    "            'Cantidad de ítems:': total_items\n",
    "        }\n",
    "    else:\n",
    "        return 'Usuario no encontrado'\n",
    "\n",
    "userdata('76561197970982479')"
   ]
  },
  {
   "cell_type": "markdown",
   "metadata": {},
   "source": [
    "#### CREACION SEGUNDA FUNCION\n",
    "cantidad de usuarios que realizaron reviews entre las fechas dadas y, el porcentaje de recomendación de los mismos en base a reviews.recommend."
   ]
  },
  {
   "cell_type": "code",
   "execution_count": 94,
   "metadata": {},
   "outputs": [],
   "source": [
    "user_reviews = df2_reviews[['user_id', 'posted', 'recommend']]\n"
   ]
  },
  {
   "cell_type": "code",
   "execution_count": 95,
   "metadata": {},
   "outputs": [
    {
     "data": {
      "text/plain": [
       "{'Cantidad de usuarios con reviews:': 16180,\n",
       " 'Porcentaje de recomendación:': 92.38}"
      ]
     },
     "execution_count": 95,
     "metadata": {},
     "output_type": "execute_result"
    }
   ],
   "source": [
    "def countreviews(inicio: str, final: str):\n",
    "    mask = (user_reviews['posted'] >= inicio) & (user_reviews['posted'] <= final)\n",
    "    reviews = user_reviews[mask] #creo una mascara para filtrar las reviews en el rango que elijo\n",
    "\n",
    "    #usuarios unicos que realizaron reviews \n",
    "    usuarios_unicos = reviews['user_id'].nunique()\n",
    "\n",
    "    #porcentaje recomendacion\n",
    "    porcentaje_recomendacion = round(reviews['recommend'].sum() / reviews['recommend'].count() * 100,2)\n",
    "\n",
    "    return {\n",
    "        'Cantidad de usuarios con reviews:': usuarios_unicos,\n",
    "        'Porcentaje de recomendación:': round(porcentaje_recomendacion, 2)\n",
    "    }\n",
    "\n",
    "countreviews('2011-11-11','2014-12-19')\n"
   ]
  },
  {
   "cell_type": "code",
   "execution_count": 96,
   "metadata": {},
   "outputs": [],
   "source": [
    "user_reviews.to_parquet('countreviews.parquet', engine='pyarrow')\n",
    "#guardo el archivo final en formato parquet "
   ]
  },
  {
   "cell_type": "markdown",
   "metadata": {},
   "source": [
    "#### CREACION TERCER FUNCION\n",
    "devuelve el puesto en el que se encuentra un género sobre el ranking de los mismos analizado bajo la columna PlayTimeForever."
   ]
  },
  {
   "cell_type": "code",
   "execution_count": 97,
   "metadata": {},
   "outputs": [],
   "source": [
    "columnas_df1_funcion_3 = ['id', 'genres']\n",
    "columnas_df3_funcion_3 = ['item_id', 'playtime_forever']\n",
    "\n",
    "genres_playtime = df1_steam[columnas_df1_funcion_3].merge(df3_items[columnas_df3_funcion_3], \n",
    "left_on='id', right_on='item_id', how='inner')\n",
    "\n",
    "#procedo a hacer los merge y groupby \n",
    "#fuera del df original asi no me queda tan grande y no me genera inconvenientes\n"
   ]
  },
  {
   "cell_type": "code",
   "execution_count": 98,
   "metadata": {},
   "outputs": [],
   "source": [
    "ranking = genres_playtime.groupby('genres')['playtime_forever'].sum().reset_index().sort_values(by='playtime_forever', ascending=False)\n"
   ]
  },
  {
   "cell_type": "code",
   "execution_count": 99,
   "metadata": {},
   "outputs": [
    {
     "data": {
      "text/plain": [
       "'Eel genre Action se encuentra en el puesto 1'"
      ]
     },
     "execution_count": 99,
     "metadata": {},
     "output_type": "execute_result"
    }
   ],
   "source": [
    "def genre(genero: str):\n",
    "    posicion = ranking[ranking['genres'] == genero].index[0] + 1  #busco el genero en el df y su posicion\n",
    "    return f\"Eel genre {genero} se encuentra en el puesto {posicion}\"\n",
    "\n",
    "genre('Action')\n"
   ]
  },
  {
   "cell_type": "code",
   "execution_count": 100,
   "metadata": {},
   "outputs": [],
   "source": [
    "ranking.to_parquet('genre.parquet', engine='pyarrow') #paso el archivo final a formato parquet\n"
   ]
  },
  {
   "cell_type": "markdown",
   "metadata": {},
   "source": [
    "#### CREACION CUARTA FUNCION\n",
    "top 5 de usuarios con más horas de juego en el género dado, con su URL (del user) y user_id."
   ]
  },
  {
   "cell_type": "code",
   "execution_count": 101,
   "metadata": {},
   "outputs": [],
   "source": [
    "#guardo columnas necesarias en una variable\n",
    "columnas_df1_funcion_4 = ['id', 'genres'] \n",
    "columnas_df3_funcion_4 = ['user_id', 'item_id', 'playtime_forever', 'user_url']\n"
   ]
  },
  {
   "cell_type": "code",
   "execution_count": 103,
   "metadata": {},
   "outputs": [],
   "source": [
    "#procedo a hacer los merge y groupby \n",
    "#fuera del df original asi no me queda tan grande y no me genera inconvenientes\n",
    "\n",
    "genero_y_usuario = df1_steam[columnas_df1_funcion_4].merge(df3_items[columnas_df3_funcion_4],   \n",
    "                                                    left_on='id', right_on='item_id', how='inner')\n",
    "\n",
    "genero_y_usuario_agrupado = genero_y_usuario.groupby(['genres', 'user_id', 'user_url'])['playtime_forever'].sum().reset_index()\n"
   ]
  },
  {
   "cell_type": "code",
   "execution_count": 104,
   "metadata": {},
   "outputs": [],
   "source": [
    "def userforgenre(genre: str):\n",
    "    genero_filtrado = genero_y_usuario_agrupado[genero_y_usuario_agrupado['genres'] == genre]\n",
    "    top_usuario = genero_filtrado.sort_values(by='playtime_forever', ascending=False).head(5) #muestro \n",
    "                                                                                #los primeros 5 valores\n",
    "    return top_usuario[['user_id', 'user_url', 'playtime_forever']]\n"
   ]
  },
  {
   "cell_type": "code",
   "execution_count": 105,
   "metadata": {},
   "outputs": [
    {
     "data": {
      "text/html": [
       "<div>\n",
       "<style scoped>\n",
       "    .dataframe tbody tr th:only-of-type {\n",
       "        vertical-align: middle;\n",
       "    }\n",
       "\n",
       "    .dataframe tbody tr th {\n",
       "        vertical-align: top;\n",
       "    }\n",
       "\n",
       "    .dataframe thead th {\n",
       "        text-align: right;\n",
       "    }\n",
       "</style>\n",
       "<table border=\"1\" class=\"dataframe\">\n",
       "  <thead>\n",
       "    <tr style=\"text-align: right;\">\n",
       "      <th></th>\n",
       "      <th>user_id</th>\n",
       "      <th>user_url</th>\n",
       "      <th>playtime_forever</th>\n",
       "    </tr>\n",
       "  </thead>\n",
       "  <tbody>\n",
       "    <tr>\n",
       "      <th>50657</th>\n",
       "      <td>Sp3ctre</td>\n",
       "      <td>http://steamcommunity.com/id/Sp3ctre</td>\n",
       "      <td>1699307.0</td>\n",
       "    </tr>\n",
       "    <tr>\n",
       "      <th>64497</th>\n",
       "      <td>shinomegami</td>\n",
       "      <td>http://steamcommunity.com/id/shinomegami</td>\n",
       "      <td>1580428.0</td>\n",
       "    </tr>\n",
       "    <tr>\n",
       "      <th>49457</th>\n",
       "      <td>REBAS_AS_F-T</td>\n",
       "      <td>http://steamcommunity.com/id/REBAS_AS_F-T</td>\n",
       "      <td>1456212.0</td>\n",
       "    </tr>\n",
       "    <tr>\n",
       "      <th>51237</th>\n",
       "      <td>Terminally-Chill</td>\n",
       "      <td>http://steamcommunity.com/id/Terminally-Chill</td>\n",
       "      <td>1065742.0</td>\n",
       "    </tr>\n",
       "    <tr>\n",
       "      <th>44133</th>\n",
       "      <td>DownSyndromeKid</td>\n",
       "      <td>http://steamcommunity.com/id/DownSyndromeKid</td>\n",
       "      <td>1061193.0</td>\n",
       "    </tr>\n",
       "  </tbody>\n",
       "</table>\n",
       "</div>"
      ],
      "text/plain": [
       "                user_id                                       user_url  \\\n",
       "50657           Sp3ctre           http://steamcommunity.com/id/Sp3ctre   \n",
       "64497       shinomegami       http://steamcommunity.com/id/shinomegami   \n",
       "49457      REBAS_AS_F-T      http://steamcommunity.com/id/REBAS_AS_F-T   \n",
       "51237  Terminally-Chill  http://steamcommunity.com/id/Terminally-Chill   \n",
       "44133   DownSyndromeKid   http://steamcommunity.com/id/DownSyndromeKid   \n",
       "\n",
       "       playtime_forever  \n",
       "50657         1699307.0  \n",
       "64497         1580428.0  \n",
       "49457         1456212.0  \n",
       "51237         1065742.0  \n",
       "44133         1061193.0  "
      ]
     },
     "execution_count": 105,
     "metadata": {},
     "output_type": "execute_result"
    }
   ],
   "source": [
    "userforgenre('Action')"
   ]
  },
  {
   "cell_type": "code",
   "execution_count": 106,
   "metadata": {},
   "outputs": [],
   "source": [
    "genero_y_usuario_agrupado.to_parquet('userforgenres.parquet', engine='pyarrow') #paso el archivo final a formato parquet\n"
   ]
  },
  {
   "cell_type": "markdown",
   "metadata": {},
   "source": [
    "#### CREACION QUINTA FUNCION\n",
    "cantidad de items y porcentaje de contenido Free por año según empresa desarrolladora."
   ]
  },
  {
   "cell_type": "code",
   "execution_count": null,
   "metadata": {},
   "outputs": [],
   "source": []
  },
  {
   "cell_type": "markdown",
   "metadata": {},
   "source": [
    "#### CREACION SEXTA FUNCION\n",
    "según el año de lanzamiento, se devuelve una lista con la cantidad de registros de reseñas de usuarios que se encuentren categorizados con un análisis de sentimiento.\n"
   ]
  }
 ],
 "metadata": {
  "kernelspec": {
   "display_name": "Python 3",
   "language": "python",
   "name": "python3"
  },
  "language_info": {
   "codemirror_mode": {
    "name": "ipython",
    "version": 3
   },
   "file_extension": ".py",
   "mimetype": "text/x-python",
   "name": "python",
   "nbconvert_exporter": "python",
   "pygments_lexer": "ipython3",
   "version": "3.11.4"
  },
  "orig_nbformat": 4
 },
 "nbformat": 4,
 "nbformat_minor": 2
}
